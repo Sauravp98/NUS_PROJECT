{
 "cells": [
  {
   "cell_type": "code",
   "execution_count": 8,
   "metadata": {},
   "outputs": [],
   "source": [
    "import numpy as np\n",
    "import pandas as pd\n",
    "import sklearn as sk\n",
    "import random\n",
    "\n",
    "import matplotlib.pyplot as plt\n",
    "import matplotlib.patches as mpatches\n",
    "\n",
    "from sklearn.neural_network import MLPClassifier\n",
    "from sklearn.ensemble import RandomForestClassifier\n",
    "from sklearn.datasets import make_regression\n",
    "from sklearn.svm import LinearSVC\n",
    "from sklearn.linear_model import LogisticRegression\n",
    "from sklearn.metrics import accuracy_score\n",
    "from sklearn.model_selection import train_test_split\n",
    "from sklearn import metrics, datasets\n",
    "from sklearn.metrics import classification_report\n",
    "from sklearn import tree\n",
    "from sklearn.learning_curve import learning_curve\n",
    "from sklearn import metrics\n",
    "from sklearn.metrics import roc_auc_score\n",
    "from sklearn.metrics import roc_curve\n",
    "from sklearn.externals import joblib"
   ]
  },
  {
   "cell_type": "code",
   "execution_count": 6,
   "metadata": {},
   "outputs": [],
   "source": [
    "data = pd.read_csv(\"values.csv\")\n",
    "X = data.drop(['purchase cat'], axis=1)\n",
    "Y = data['purchase cat']\n",
    "Y = Y.values.reshape(-1, 1)##convert 1 col to 2d matrix with replace"
   ]
  },
  {
   "cell_type": "code",
   "execution_count": 7,
   "metadata": {},
   "outputs": [
    {
     "name": "stdout",
     "output_type": "stream",
     "text": [
      "(52399, 11) (52399, 1)\n",
      "(13100, 11) (13100, 1)\n"
     ]
    }
   ],
   "source": [
    "for i in range(Y.size):\n",
    "    if(Y[i]<0.001):\n",
    "        Y[i]=1\n",
    "    elif(Y[i]>=0.001 and Y[i]<0.1):\n",
    "        Y[i]=2\n",
    "    elif(Y[i]>=0.1 and Y[i]<1.2):\n",
    "        Y[i]=3\n",
    "    elif(Y[i]>=0.1 and Y[i]<1.2):\n",
    "        Y[i]=4\n",
    "    elif(Y[i]>=0.1 and Y[i]<1.2):\n",
    "        Y[i]=5\n",
    "    elif(Y[i]>=1.2 and Y[i]<10000):\n",
    "        Y[i]=6\n",
    "    \n",
    "\n",
    "x_train, x_test, y_train, y_test = train_test_split(data, Y, train_size=0.8, test_size=0.2, shuffle=True)\n",
    "print(x_train.shape, y_train.shape)\n",
    "print(x_test.shape, y_test.shape)"
   ]
  },
  {
   "cell_type": "code",
   "execution_count": 31,
   "metadata": {},
   "outputs": [
    {
     "name": "stderr",
     "output_type": "stream",
     "text": [
      "/Users/Swayamprava/anaconda3/lib/python3.7/site-packages/sklearn/utils/validation.py:578: DataConversionWarning: A column-vector y was passed when a 1d array was expected. Please change the shape of y to (n_samples, ), for example using ravel().\n",
      "  y = column_or_1d(y, warn=True)\n",
      "/Users/Swayamprava/anaconda3/lib/python3.7/site-packages/scipy/optimize/linesearch.py:462: LineSearchWarning: The line search algorithm did not converge\n",
      "  warn('The line search algorithm did not converge', LineSearchWarning)\n",
      "/Users/Swayamprava/anaconda3/lib/python3.7/site-packages/scipy/optimize/linesearch.py:313: LineSearchWarning: The line search algorithm did not converge\n",
      "  warn('The line search algorithm did not converge', LineSearchWarning)\n"
     ]
    },
    {
     "name": "stdout",
     "output_type": "stream",
     "text": [
      "LogisticRegression(C=100000.0, class_weight=None, dual=False,\n",
      "          fit_intercept=True, intercept_scaling=1, max_iter=100,\n",
      "          multi_class='multinomial', n_jobs=1, penalty='l2',\n",
      "          random_state=None, solver='newton-cg', tol=0.0001, verbose=0,\n",
      "          warm_start=False)\n",
      "Coefficients =  [[ 4.92559883e-06 -4.59889329e-03 -3.55576656e-02  9.49295113e-03\n",
      "  -1.94576237e-02  3.20131318e-03 -1.02256259e-02  6.48249563e-01\n",
      "  -1.59644294e-01 -1.25261352e-01 -1.35744347e+00]\n",
      " [ 5.83611931e-06 -1.03637445e-02 -2.65253705e-02 -7.55567575e-03\n",
      "   4.30530876e-03  5.99047292e-03  5.09699804e-03  9.65899876e-02\n",
      "   2.66930374e-03  6.02702158e-02 -1.52261426e+00]\n",
      " [ 9.03714811e-06  2.66427554e-02  3.57344465e-03  4.66321195e-03\n",
      "   3.03200923e-02 -7.30535937e-03  1.18941299e-02  6.93351010e-02\n",
      "  -8.92411178e-02 -8.57801067e-02 -1.50592522e+00]\n",
      " [ 7.91079351e-06  2.25966895e-02 -2.99475554e-03 -4.85796385e-03\n",
      "  -1.42536773e-02 -9.24348158e-03  3.03229097e-03 -1.85671713e-01\n",
      "   5.44495836e-02 -7.75545934e-03 -1.16965424e+00]\n",
      " [ 5.59838301e-06 -6.69964791e-02 -8.01629035e-02 -3.67225597e-03\n",
      "  -2.78504248e-02 -7.60120681e-03 -2.35380473e-02 -3.16291776e-01\n",
      "   3.47537383e-02  9.41608537e-02 -7.20509564e-01]\n",
      " [ 3.25056354e-06  4.70739169e-02  1.89177093e-02 -8.28835120e-04\n",
      "  -2.76229227e-02 -1.65263300e-03 -8.19559473e-03  8.06038084e-02\n",
      "   1.98762813e-02  1.77090543e-02 -3.29871383e-01]\n",
      " [ 1.20646606e-06 -1.11149559e-02  2.37262586e-02  3.97882167e-04\n",
      "  -5.46058874e-03  1.21124451e-02  2.02117209e-02  1.32275529e-03\n",
      "   4.24284011e-02 -9.42338975e-03  1.09195531e-01]\n",
      " [-1.84701723e-06 -2.25558494e-02  2.21557538e-02 -3.17868173e-03\n",
      "  -5.56285003e-03 -6.49571016e-03 -1.30832385e-02 -1.94149960e-01\n",
      "   3.06227936e-02  7.90562016e-02  6.58390851e-01]\n",
      " [-7.61951780e-06  1.55745943e-02 -3.65408625e-03  4.00694988e-03\n",
      "   2.10959288e-02  1.14585879e-03  1.05163394e-02 -1.46793359e-01\n",
      "   1.50591463e-02  3.75012663e-02  1.50613204e+00]\n",
      " [-1.43294749e-05 -6.69173380e-03  4.97278388e-02  2.53486748e-03\n",
      "   2.15889237e-02 -1.62661579e-03  6.20420196e-03 -4.75437333e-02\n",
      "   5.70539277e-02 -2.03377360e-02  2.20346336e+00]\n",
      " [-1.39690792e-05  1.04337000e-02  3.07937762e-02 -1.00245020e-03\n",
      "   2.28978337e-02  1.14749167e-02 -1.91317462e-03 -5.65067427e-03\n",
      "  -8.02776366e-03 -4.01395481e-02  2.12883636e+00]]\n",
      "Intercept =  [-3.41132812e-05  3.45410583e-05 -9.77494026e-06  8.13523730e-05\n",
      "  4.66215504e-05 -3.54792628e-05 -6.22333355e-05  5.78453741e-05\n",
      "  3.67860985e-05 -8.19479189e-05 -3.35977157e-05]\n",
      "Training Accuracy 0.6808145193610565\n",
      "Training Confusion = [[ 851  324   59]\n",
      " [   0  116    0]\n",
      " [ 273  512 1263]]\n",
      "             precision    recall  f1-score   support\n",
      "\n",
      "          0       0.61      0.75      0.67      1128\n",
      "          1       1.00      0.08      0.15      1462\n",
      "          2       0.54      0.41      0.47      3073\n",
      "          3       0.56      0.75      0.64      5170\n",
      "          4       0.78      0.54      0.64      4110\n",
      "          5       0.70      0.99      0.82      5594\n",
      "          6       0.61      0.04      0.07      5003\n",
      "          7       0.71      0.94      0.81     10009\n",
      "          8       0.75      1.00      0.85     10552\n",
      "          9       0.51      0.37      0.43      4502\n",
      "         10       0.00      0.00      0.00      1796\n",
      "\n",
      "avg / total       0.65      0.68      0.62     52399\n",
      "\n",
      "========================================================\n",
      "Test Accuracy 0.6814503816793893\n",
      "Test Confusion = [[197  72  16]\n",
      " [  0  29   0]\n",
      " [ 58 132 304]]\n",
      "             precision    recall  f1-score   support\n",
      "\n",
      "          0       0.62      0.77      0.69       255\n",
      "          1       1.00      0.08      0.14       381\n",
      "          2       0.56      0.39      0.46       785\n",
      "          3       0.54      0.76      0.63      1243\n",
      "          4       0.78      0.54      0.64       999\n",
      "          5       0.70      1.00      0.82      1388\n",
      "          6       0.71      0.05      0.09      1298\n",
      "          7       0.71      0.95      0.81      2512\n",
      "          8       0.75      1.00      0.86      2675\n",
      "          9       0.52      0.36      0.43      1139\n",
      "         10       0.00      0.00      0.00       425\n",
      "\n",
      "avg / total       0.66      0.68      0.62     13100\n",
      "\n"
     ]
    },
    {
     "name": "stderr",
     "output_type": "stream",
     "text": [
      "/Users/Swayamprava/anaconda3/lib/python3.7/site-packages/sklearn/utils/optimize.py:203: ConvergenceWarning: newton-cg failed to converge. Increase the number of iterations.\n",
      "  \"number of iterations.\", ConvergenceWarning)\n",
      "/Users/Swayamprava/anaconda3/lib/python3.7/site-packages/sklearn/metrics/classification.py:1135: UndefinedMetricWarning: Precision and F-score are ill-defined and being set to 0.0 in labels with no predicted samples.\n",
      "  'precision', 'predicted', average, warn_for)\n"
     ]
    }
   ],
   "source": [
    "##LOGISTIC REGRESSION MODEL\n",
    "lr = LogisticRegression(C=1e5, solver='newton-cg', multi_class='multinomial')\n",
    "lr.fit(x_train, y_train)\n",
    "y_pred_train = lr.predict(x_train)\n",
    "y_pred_test = lr.predict(x_test)\n",
    "\n",
    "print(lr)\n",
    "print('Coefficients = ', lr.coef_)\n",
    "print('Intercept = ', lr.intercept_)\n",
    "\n",
    "print('Training Accuracy {}'.format(lr.score(x_train, y_train)))\n",
    "print('Training Confusion = {}'.format(metrics.confusion_matrix(y_pred_train, y_train, [0,1,2])))\n",
    "print(classification_report(y_train, y_pred_train))\n",
    "print('========================================================')\n",
    "print('Test Accuracy {}'.format(lr.score(x_test, y_test)))\n",
    "print('Test Confusion = {}'.format(metrics.confusion_matrix(y_pred_test, y_test, [0,1,2])))\n",
    "print(classification_report(y_test, y_pred_test))"
   ]
  },
  {
   "cell_type": "code",
   "execution_count": 32,
   "metadata": {},
   "outputs": [
    {
     "name": "stdout",
     "output_type": "stream",
     "text": [
      "DecisionTreeClassifier(class_weight=None, criterion='gini', max_depth=None,\n",
      "            max_features=None, max_leaf_nodes=None,\n",
      "            min_impurity_decrease=0.0, min_impurity_split=None,\n",
      "            min_samples_leaf=1, min_samples_split=2,\n",
      "            min_weight_fraction_leaf=0.0, presort=False, random_state=None,\n",
      "            splitter='best')\n",
      "Training Accuracy 1.0\n",
      "Training Confusion = [[1128    0    0]\n",
      " [   0 1462    0]\n",
      " [   0    0 3073]]\n",
      "             precision    recall  f1-score   support\n",
      "\n",
      "          0       1.00      1.00      1.00      1128\n",
      "          1       1.00      1.00      1.00      1462\n",
      "          2       1.00      1.00      1.00      3073\n",
      "          3       1.00      1.00      1.00      5170\n",
      "          4       1.00      1.00      1.00      4110\n",
      "          5       1.00      1.00      1.00      5594\n",
      "          6       1.00      1.00      1.00      5003\n",
      "          7       1.00      1.00      1.00     10009\n",
      "          8       1.00      1.00      1.00     10552\n",
      "          9       1.00      1.00      1.00      4502\n",
      "         10       1.00      1.00      1.00      1796\n",
      "\n",
      "avg / total       1.00      1.00      1.00     52399\n",
      "\n",
      "========================================================\n",
      "Test Accuracy 1.0\n",
      "Test Confusion = [[255   0   0]\n",
      " [  0 381   0]\n",
      " [  0   0 785]]\n",
      "             precision    recall  f1-score   support\n",
      "\n",
      "          0       1.00      1.00      1.00       255\n",
      "          1       1.00      1.00      1.00       381\n",
      "          2       1.00      1.00      1.00       785\n",
      "          3       1.00      1.00      1.00      1243\n",
      "          4       1.00      1.00      1.00       999\n",
      "          5       1.00      1.00      1.00      1388\n",
      "          6       1.00      1.00      1.00      1298\n",
      "          7       1.00      1.00      1.00      2512\n",
      "          8       1.00      1.00      1.00      2675\n",
      "          9       1.00      1.00      1.00      1139\n",
      "         10       1.00      1.00      1.00       425\n",
      "\n",
      "avg / total       1.00      1.00      1.00     13100\n",
      "\n"
     ]
    }
   ],
   "source": [
    "##DECISION TREE MODEL\n",
    "clfdt = tree.DecisionTreeClassifier(criterion='gini', splitter='best')\n",
    "clfdt.fit(x_train, y_train)\n",
    "y_pred_train = clfdt.predict(x_train)\n",
    "y_pred_test = clfdt.predict(x_test)\n",
    "print(clfdt)\n",
    "print('Training Accuracy {}'.format(clfdt.score(x_train, y_train)))\n",
    "print('Training Confusion = {}'.format(metrics.confusion_matrix(y_pred_train, y_train, [0,1,2])))\n",
    "print(classification_report(y_train, y_pred_train))\n",
    "print('========================================================')\n",
    "print('Test Accuracy {}'.format(clfdt.score(x_test, y_test)))\n",
    "print('Test Confusion = {}'.format(metrics.confusion_matrix(y_pred_test, y_test, [0,1,2])))\n",
    "print(classification_report(y_test, y_pred_test))"
   ]
  },
  {
   "cell_type": "code",
   "execution_count": null,
   "metadata": {},
   "outputs": [],
   "source": [
    "##SUPPORT VECTOR MACHINE MODEL\n",
    "svc = LinearSVC(max_iter=20)\n",
    "svc.fit(x_train, y_train)\n",
    "y_pred_train = svc.predict(x_train)\n",
    "y_pred_test = svc.predict(x_test)\n",
    "\n",
    "print(svc)\n",
    "\n",
    "print('Training Accuracy {}'.format(svc.score(x_train, y_train)))\n",
    "print('Training Confusion = {}'.format(metrics.confusion_matrix(y_pred_train, y_train, [0,1,2])))\n",
    "print(classification_report(y_train, y_pred_train))\n",
    "print('========================================================')\n",
    "print('Test Accuracy {}'.format(svc.score(x_test, y_test)))\n",
    "print('Test Confusion = {}'.format(metrics.confusion_matrix(y_pred_test, y_test, [0,1,2])))\n",
    "print(classification_report(y_test, y_pred_test))"
   ]
  },
  {
   "cell_type": "code",
   "execution_count": 50,
   "metadata": {},
   "outputs": [
    {
     "name": "stderr",
     "output_type": "stream",
     "text": [
      "/Users/Swayamprava/anaconda3/lib/python3.7/site-packages/ipykernel_launcher.py:2: DataConversionWarning: A column-vector y was passed when a 1d array was expected. Please change the shape of y to (n_samples,), for example using ravel().\n",
      "  \n"
     ]
    },
    {
     "name": "stdout",
     "output_type": "stream",
     "text": [
      "TRAIN ACCURACY 0.5545907364644364\n"
     ]
    }
   ],
   "source": [
    "##RANDOMFORREST CLASSIFIER\n",
    "rf = RandomForestClassifier(max_depth=5, n_estimators=10, max_features=1,criterion='gini').fit(x_train,y_train)\n",
    "print(\"TRAIN ACCURACY\",rf.score(x_train,y_train))\n",
    "\n",
    "#print(accuracy_score(y_train, , normalize=True, sample_weight=None))\n",
    "\n"
   ]
  },
  {
   "cell_type": "code",
   "execution_count": 48,
   "metadata": {},
   "outputs": [
    {
     "name": "stderr",
     "output_type": "stream",
     "text": [
      "/Users/Swayamprava/anaconda3/lib/python3.7/site-packages/sklearn/neural_network/multilayer_perceptron.py:912: DataConversionWarning: A column-vector y was passed when a 1d array was expected. Please change the shape of y to (n_samples, ), for example using ravel().\n",
      "  y = column_or_1d(y, warn=True)\n"
     ]
    },
    {
     "name": "stdout",
     "output_type": "stream",
     "text": [
      "MLPClassifier(activation='relu', alpha=0.0001, batch_size='auto', beta_1=0.9,\n",
      "       beta_2=0.999, early_stopping=False, epsilon=1e-08,\n",
      "       hidden_layer_sizes=(10, 5), learning_rate='constant',\n",
      "       learning_rate_init=0.001, max_iter=200, momentum=0.9,\n",
      "       nesterovs_momentum=True, power_t=0.5, random_state=None,\n",
      "       shuffle=True, solver='adam', tol=0.0001, validation_fraction=0.1,\n",
      "       verbose=False, warm_start=False)\n",
      "Training Accuracy 0.19101509570793335\n",
      "             precision    recall  f1-score   support\n",
      "\n",
      "          0       0.00      0.00      0.00      1128\n",
      "          1       0.00      0.00      0.00      1462\n",
      "          2       0.00      0.00      0.00      3073\n",
      "          3       0.00      0.00      0.00      5170\n",
      "          4       0.00      0.00      0.00      4110\n",
      "          5       0.00      0.00      0.00      5594\n",
      "          6       0.00      0.00      0.00      5003\n",
      "          7       0.19      1.00      0.32     10009\n",
      "          8       0.00      0.00      0.00     10552\n",
      "          9       0.00      0.00      0.00      4502\n",
      "         10       0.00      0.00      0.00      1796\n",
      "\n",
      "avg / total       0.04      0.19      0.06     52399\n",
      "\n",
      "Test Accuracy 0.1268702290076336\n"
     ]
    },
    {
     "name": "stderr",
     "output_type": "stream",
     "text": [
      "/Users/Swayamprava/anaconda3/lib/python3.7/site-packages/sklearn/metrics/classification.py:1135: UndefinedMetricWarning: Precision and F-score are ill-defined and being set to 0.0 in labels with no predicted samples.\n",
      "  'precision', 'predicted', average, warn_for)\n"
     ]
    }
   ],
   "source": [
    "##NEURAL NETWORK MODEL\n",
    "NN=MLPClassifier(hidden_layer_sizes=(10,5), activation='relu',solver='adam',alpha=0.0001).fit(x_train,y_train)\n",
    "y_pred_train = NN.predict(x_train)\n",
    "y_pred_test = NN.predict(x_test)\n",
    "print(NN)\n",
    "print('Training Accuracy {}'.format(NN.score(x_train, y_train)))\n",
    "print(classification_report(y_train, y_pred_train))\n",
    "print('Test Accuracy {}'.format(svc.score(x_test, y_test)))"
   ]
  },
  {
   "cell_type": "code",
   "execution_count": null,
   "metadata": {},
   "outputs": [],
   "source": []
  },
  {
   "cell_type": "code",
   "execution_count": null,
   "metadata": {},
   "outputs": [],
   "source": []
  }
 ],
 "metadata": {
  "kernelspec": {
   "display_name": "Python 3",
   "language": "python",
   "name": "python3"
  },
  "language_info": {
   "codemirror_mode": {
    "name": "ipython",
    "version": 3
   },
   "file_extension": ".py",
   "mimetype": "text/x-python",
   "name": "python",
   "nbconvert_exporter": "python",
   "pygments_lexer": "ipython3",
   "version": "3.7.0"
  }
 },
 "nbformat": 4,
 "nbformat_minor": 2
}

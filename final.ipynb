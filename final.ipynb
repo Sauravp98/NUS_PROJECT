{
 "cells": [
  {
   "cell_type": "code",
   "execution_count": 5,
   "metadata": {},
   "outputs": [],
   "source": [
    "import numpy as np\n",
    "import pandas as pd\n",
    "import sklearn as sk\n",
    "import random\n",
    "\n",
    "import matplotlib.pyplot as plt\n",
    "import matplotlib.patches as mpatches\n",
    "\n",
    "from sklearn.neural_network import MLPClassifier\n",
    "from sklearn.ensemble import RandomForestClassifier\n",
    "from sklearn.datasets import make_regression\n",
    "from sklearn.svm import LinearSVC\n",
    "from sklearn.linear_model import LogisticRegression\n",
    "from sklearn.metrics import accuracy_score\n",
    "from sklearn.model_selection import train_test_split\n",
    "from sklearn import metrics, datasets\n",
    "from sklearn.metrics import classification_report\n",
    "from sklearn import tree\n",
    "#from sklearn.learning_curve import learning_curve\n",
    "from sklearn import metrics\n",
    "from sklearn.metrics import roc_auc_score\n",
    "from sklearn.metrics import roc_curve\n",
    "from sklearn.externals import joblib"
   ]
  },
  {
   "cell_type": "code",
   "execution_count": 6,
   "metadata": {},
   "outputs": [
    {
     "ename": "SyntaxError",
     "evalue": "EOL while scanning string literal (<ipython-input-6-5908d7f9daf9>, line 10)",
     "output_type": "error",
     "traceback": [
      "\u001b[0;36m  File \u001b[0;32m\"<ipython-input-6-5908d7f9daf9>\"\u001b[0;36m, line \u001b[0;32m10\u001b[0m\n\u001b[0;31m    X['genre'][i]=j        ''''\u001b[0m\n\u001b[0m                               \n^\u001b[0m\n\u001b[0;31mSyntaxError\u001b[0m\u001b[0;31m:\u001b[0m EOL while scanning string literal\n"
     ]
    }
   ],
   "source": [
    "data = pd.read_csv(\"new1.csv\")\n",
    "X = data.drop(['gross','company','director','name','released','star','writer'],axis=1)\n",
    "\n",
    "l1=['Adventure', 'Comedy', 'Action', 'Drama', 'Crime', 'Thriller', 'Horror', 'Animation', 'Biography', 'Sci-Fi', 'Musical', 'Family', 'Fantasy', 'Mystery', 'War', 'Romance', 'Western']\n",
    "l2=['Argentina','Australia','Belgium','Canada','China','Denmark','France','Germany','Hong Kong','Hungary','Iran','Isreal','Italy','Japan','Netherlands','New Zealand','Peru','South Africa','Spain','Sweden','Switzerland','UK','USA','West Germany']\n",
    "l3=['R','PG-13','PG','UNRATED','G','NC-17','TV-PG','TV-MA','B','B15','TV-14']\n",
    "for i in range(X['genre'].size):\n",
    "    for j in range(len(l1)):\n",
    "         if(X['genre'][i]==l1[j]):\n",
    "                X['genre'][i]=j\n",
    "for i in range(X['country'][i].size()):\n",
    "    for j in range(len(l2)):\n",
    "         if(X['country'][i]==l2[i]):\n",
    "                X['country'][i]=j  \n",
    "for i in range(X['rating'][i].size):\n",
    "    for j in range(len(l3)):\n",
    "         if(X['rating'][i]==l3[i]):\n",
    "                X['rating'][i]=j\n",
    "         else:\n",
    "         X['genre'][i]=3\n",
    "Y=data['gross']        \n",
    "Y = Y.values.reshape(-1, 1)##convert 1 col to 2d matrix with replace\n",
    "for i in range(Y.size):\n",
    "    if(Y[i]<33497828.61):\n",
    "        Y[i]=1\n",
    "    else:\n",
    "        Y[i]=2"
   ]
  },
  {
   "cell_type": "code",
   "execution_count": null,
   "metadata": {},
   "outputs": [],
   "source": [
    "x_train, x_test, y_train, y_test = train_test_split(X, Y, train_size=0.8, test_size=0.2, shuffle=True)\n",
    "print(x_train.shape, y_train.shape)\n",
    "print(x_test.shape, y_test.shape)"
   ]
  },
  {
   "cell_type": "code",
   "execution_count": null,
   "metadata": {},
   "outputs": [],
   "source": [
    "##LOGISTIC REGRESSION MODEL\n",
    "lr = LogisticRegression(C=1e5, solver='newton-cg')\n",
    "lr.fit(x_train, y_train)\n",
    "y_pred_train = lr.predict(x_train)\n",
    "y_pred_test = lr.predict(x_test)\n",
    "\n",
    "print(lr)\n",
    "print('Coefficients = ', lr.coef_)\n",
    "print('Intercept = ', lr.intercept_)\n",
    "\n",
    "print('Training Accuracy {}'.format(lr.score(x_train, y_train)))\n",
    "print('Training Confusion = {}'.format(metrics.confusion_matrix(y_pred_train, y_train)))\n",
    "print(classification_report(y_train, y_pred_train))\n",
    "print('========================================================')\n",
    "print('Test Accuracy {}'.format(lr.score(x_test, y_test)))\n",
    "print('Test Confusion = {}'.format(metrics.confusion_matrix(y_pred_test, y_test)))\n",
    "print(classification_report(y_test, y_pred_test))\n",
    "#saving the weights\n",
    "joblib.dump(lr,'lrweight.joblib')"
   ]
  },
  {
   "cell_type": "code",
   "execution_count": 17,
   "metadata": {},
   "outputs": [
    {
     "name": "stdout",
     "output_type": "stream",
     "text": [
      "DecisionTreeClassifier(class_weight=None, criterion='gini', max_depth=None,\n",
      "            max_features=None, max_leaf_nodes=None,\n",
      "            min_impurity_decrease=0.0, min_impurity_split=None,\n",
      "            min_samples_leaf=1, min_samples_split=2,\n",
      "            min_weight_fraction_leaf=0.0, presort=False, random_state=None,\n",
      "            splitter='best')\n"
     ]
    },
    {
     "ename": "ValueError",
     "evalue": "Length of feature_names, 4 does not match number of features, 7",
     "output_type": "error",
     "traceback": [
      "\u001b[0;31m---------------------------------------------------------------------------\u001b[0m",
      "\u001b[0;31mValueError\u001b[0m                                Traceback (most recent call last)",
      "\u001b[0;32m<ipython-input-17-d5d3e26756a9>\u001b[0m in \u001b[0;36m<module>\u001b[0;34m\u001b[0m\n\u001b[1;32m      6\u001b[0m \u001b[0mprint\u001b[0m\u001b[0;34m(\u001b[0m\u001b[0mclfdt\u001b[0m\u001b[0;34m)\u001b[0m\u001b[0;34m\u001b[0m\u001b[0;34m\u001b[0m\u001b[0m\n\u001b[1;32m      7\u001b[0m \u001b[0;34m\u001b[0m\u001b[0m\n\u001b[0;32m----> 8\u001b[0;31m \u001b[0mdot_data\u001b[0m \u001b[0;34m=\u001b[0m \u001b[0mtree\u001b[0m\u001b[0;34m.\u001b[0m\u001b[0mexport_graphviz\u001b[0m\u001b[0;34m(\u001b[0m\u001b[0mclfdt\u001b[0m\u001b[0;34m,\u001b[0m \u001b[0mout_file\u001b[0m\u001b[0;34m=\u001b[0m\u001b[0;32mNone\u001b[0m\u001b[0;34m,\u001b[0m \u001b[0mfeature_names\u001b[0m\u001b[0;34m=\u001b[0m\u001b[0;34m[\u001b[0m\u001b[0;34m'sepal_length'\u001b[0m\u001b[0;34m,\u001b[0m\u001b[0;34m'sepal_width'\u001b[0m\u001b[0;34m,\u001b[0m\u001b[0;34m'petal_length'\u001b[0m\u001b[0;34m,\u001b[0m\u001b[0;34m'petal_width'\u001b[0m\u001b[0;34m]\u001b[0m\u001b[0;34m,\u001b[0m\u001b[0mclass_names\u001b[0m\u001b[0;34m=\u001b[0m\u001b[0;34m[\u001b[0m\u001b[0;34m'setosa'\u001b[0m\u001b[0;34m,\u001b[0m\u001b[0;34m'versicolor'\u001b[0m\u001b[0;34m,\u001b[0m\u001b[0;34m'virginica'\u001b[0m\u001b[0;34m]\u001b[0m\u001b[0;34m,\u001b[0m \u001b[0mfilled\u001b[0m\u001b[0;34m=\u001b[0m\u001b[0;32mTrue\u001b[0m\u001b[0;34m,\u001b[0m \u001b[0mrounded\u001b[0m\u001b[0;34m=\u001b[0m\u001b[0;32mTrue\u001b[0m\u001b[0;34m,\u001b[0m \u001b[0mspecial_characters\u001b[0m\u001b[0;34m=\u001b[0m\u001b[0;32mTrue\u001b[0m\u001b[0;34m)\u001b[0m\u001b[0;34m\u001b[0m\u001b[0;34m\u001b[0m\u001b[0m\n\u001b[0m\u001b[1;32m      9\u001b[0m \u001b[0mgraph\u001b[0m \u001b[0;34m=\u001b[0m \u001b[0mgraphviz\u001b[0m\u001b[0;34m.\u001b[0m\u001b[0mSource\u001b[0m\u001b[0;34m(\u001b[0m\u001b[0mdot_data\u001b[0m\u001b[0;34m)\u001b[0m\u001b[0;34m\u001b[0m\u001b[0;34m\u001b[0m\u001b[0m\n\u001b[1;32m     10\u001b[0m \u001b[0mgraph\u001b[0m\u001b[0;34m.\u001b[0m\u001b[0mrender\u001b[0m\u001b[0;34m(\u001b[0m\u001b[0;34m\"movie-train\"\u001b[0m\u001b[0;34m)\u001b[0m\u001b[0;34m\u001b[0m\u001b[0;34m\u001b[0m\u001b[0m\n",
      "\u001b[0;32m~/anaconda3/lib/python3.6/site-packages/sklearn/tree/export.py\u001b[0m in \u001b[0;36mexport_graphviz\u001b[0;34m(decision_tree, out_file, max_depth, feature_names, class_names, label, filled, leaves_parallel, impurity, node_ids, proportion, rotate, rounded, special_characters, precision)\u001b[0m\n\u001b[1;32m    425\u001b[0m                                  \u001b[0;34m\"does not match number of features, %d\"\u001b[0m\u001b[0;34m\u001b[0m\u001b[0;34m\u001b[0m\u001b[0m\n\u001b[1;32m    426\u001b[0m                                  % (len(feature_names),\n\u001b[0;32m--> 427\u001b[0;31m                                     decision_tree.n_features_))\n\u001b[0m\u001b[1;32m    428\u001b[0m \u001b[0;34m\u001b[0m\u001b[0m\n\u001b[1;32m    429\u001b[0m         \u001b[0;31m# The depth of each node for plotting with 'leaf' option\u001b[0m\u001b[0;34m\u001b[0m\u001b[0;34m\u001b[0m\u001b[0;34m\u001b[0m\u001b[0m\n",
      "\u001b[0;31mValueError\u001b[0m: Length of feature_names, 4 does not match number of features, 7"
     ]
    }
   ],
   "source": [
    "##DECISION TREE MODEL\n",
    "clfdt = tree.DecisionTreeClassifier(criterion='gini', splitter='best')\n",
    "clfdt.fit(x_train, y_train)\n",
    "y_pred_train = clfdt.predict(x_train)\n",
    "y_pred_test = clfdt.predict(x_test)\n",
    "print(clfdt)\n",
    "\n",
    "dot_data = tree.export_graphviz(clfdt, out_file=None, feature_names=['sepal_length','sepal_width','petal_length','petal_width'],class_names=['setosa','versicolor','virginica'], filled=True, rounded=True, special_characters=True)\n",
    "graph = graphviz.Source(dot_data)\n",
    "graph.render(\"movie-train\")\n",
    "print('Training Accuracy {}'.format(clfdt.score(x_train, y_train)))\n",
    "print('Training Confusion = {}'.format(metrics.confusion_matrix(y_pred_train, y_train, [0,1,2])))\n",
    "print(classification_report(y_train, y_pred_train))\n",
    "print('========================================================')\n",
    "print('Test Accuracy {}'.format(clfdt.score(x_test, y_test)))\n",
    "print('Test Confusion = {}'.format(metrics.confusion_matrix(y_pred_test, y_test, [0,1,2])))\n",
    "print(classification_report(y_test, y_pred_test))\n",
    "#saving the weights\n",
    "joblib.dump(clfdt,'dtweight.joblib')"
   ]
  },
  {
   "cell_type": "code",
   "execution_count": 18,
   "metadata": {},
   "outputs": [
    {
     "name": "stdout",
     "output_type": "stream",
     "text": [
      "LinearSVC(C=1.0, class_weight=None, dual=True, fit_intercept=True,\n",
      "     intercept_scaling=1, loss='squared_hinge', max_iter=20,\n",
      "     multi_class='ovr', penalty='l2', random_state=None, tol=0.0001,\n",
      "     verbose=0)\n",
      "Training Accuracy 0.7005131964809385\n",
      "Training Confusion = [[   0    0    0]\n",
      " [   0 3753 1510]\n",
      " [   0  124   69]]\n",
      "              precision    recall  f1-score   support\n",
      "\n",
      "           1       0.71      0.97      0.82      3877\n",
      "           2       0.36      0.04      0.08      1579\n",
      "\n",
      "   micro avg       0.70      0.70      0.70      5456\n",
      "   macro avg       0.54      0.51      0.45      5456\n",
      "weighted avg       0.61      0.70      0.61      5456\n",
      "\n",
      "========================================================\n",
      "Test Accuracy 0.6854838709677419\n",
      "Test Confusion = [[  0   0   0]\n",
      " [  0 917 392]\n",
      " [  0  37  18]]\n",
      "              precision    recall  f1-score   support\n",
      "\n",
      "           1       0.70      0.96      0.81       954\n",
      "           2       0.33      0.04      0.08       410\n",
      "\n",
      "   micro avg       0.69      0.69      0.69      1364\n",
      "   macro avg       0.51      0.50      0.44      1364\n",
      "weighted avg       0.59      0.69      0.59      1364\n",
      "\n"
     ]
    },
    {
     "name": "stderr",
     "output_type": "stream",
     "text": [
      "/Users/Swayamprava/anaconda3/lib/python3.6/site-packages/sklearn/utils/validation.py:761: DataConversionWarning: A column-vector y was passed when a 1d array was expected. Please change the shape of y to (n_samples, ), for example using ravel().\n",
      "  y = column_or_1d(y, warn=True)\n",
      "/Users/Swayamprava/anaconda3/lib/python3.6/site-packages/sklearn/svm/base.py:931: ConvergenceWarning: Liblinear failed to converge, increase the number of iterations.\n",
      "  \"the number of iterations.\", ConvergenceWarning)\n"
     ]
    },
    {
     "data": {
      "text/plain": [
       "['svcwt.joblib']"
      ]
     },
     "execution_count": 18,
     "metadata": {},
     "output_type": "execute_result"
    }
   ],
   "source": [
    "##SUPPORT VECTOR MACHINE MODEL\n",
    "svc = LinearSVC(max_iter=20)\n",
    "svc.fit(x_train, y_train)\n",
    "y_pred_train = svc.predict(x_train)\n",
    "y_pred_test = svc.predict(x_test)\n",
    "\n",
    "print(svc)\n",
    "\n",
    "print('Training Accuracy {}'.format(svc.score(x_train, y_train)))\n",
    "print('Training Confusion = {}'.format(metrics.confusion_matrix(y_pred_train, y_train, [0,1,2])))\n",
    "print(classification_report(y_train, y_pred_train))\n",
    "print('========================================================')\n",
    "print('Test Accuracy {}'.format(svc.score(x_test, y_test)))\n",
    "print('Test Confusion = {}'.format(metrics.confusion_matrix(y_pred_test, y_test, [0,1,2])))\n",
    "print(classification_report(y_test, y_pred_test))\n",
    "#saving the weights\n",
    "joblib.dump(svc,'svcwt.joblib')"
   ]
  },
  {
   "cell_type": "code",
   "execution_count": 19,
   "metadata": {},
   "outputs": [
    {
     "name": "stderr",
     "output_type": "stream",
     "text": [
      "/Users/Swayamprava/anaconda3/lib/python3.6/site-packages/sklearn/neural_network/multilayer_perceptron.py:916: DataConversionWarning: A column-vector y was passed when a 1d array was expected. Please change the shape of y to (n_samples, ), for example using ravel().\n",
      "  y = column_or_1d(y, warn=True)\n"
     ]
    },
    {
     "name": "stdout",
     "output_type": "stream",
     "text": [
      "MLPClassifier(activation='relu', alpha=0.0001, batch_size='auto', beta_1=0.9,\n",
      "       beta_2=0.999, early_stopping=False, epsilon=1e-08,\n",
      "       hidden_layer_sizes=(2, 2), learning_rate='constant',\n",
      "       learning_rate_init=0.001, max_iter=200, momentum=0.9,\n",
      "       n_iter_no_change=10, nesterovs_momentum=True, power_t=0.5,\n",
      "       random_state=None, shuffle=True, solver='adam', tol=0.0001,\n",
      "       validation_fraction=0.1, verbose=False, warm_start=False)\n",
      "Training Accuracy 0.7105938416422287\n",
      "              precision    recall  f1-score   support\n",
      "\n",
      "           1       0.71      1.00      0.83      3877\n",
      "           2       0.00      0.00      0.00      1579\n",
      "\n",
      "   micro avg       0.71      0.71      0.71      5456\n",
      "   macro avg       0.36      0.50      0.42      5456\n",
      "weighted avg       0.50      0.71      0.59      5456\n",
      "\n",
      "Test Accuracy 0.6854838709677419\n"
     ]
    },
    {
     "name": "stderr",
     "output_type": "stream",
     "text": [
      "/Users/Swayamprava/anaconda3/lib/python3.6/site-packages/sklearn/metrics/classification.py:1143: UndefinedMetricWarning: Precision and F-score are ill-defined and being set to 0.0 in labels with no predicted samples.\n",
      "  'precision', 'predicted', average, warn_for)\n"
     ]
    },
    {
     "data": {
      "text/plain": [
       "['nnwt.joblib']"
      ]
     },
     "execution_count": 19,
     "metadata": {},
     "output_type": "execute_result"
    }
   ],
   "source": [
    "##NEURAL NETWORK MODEL\n",
    "NN=MLPClassifier(hidden_layer_sizes=(2,2), activation='relu',solver='adam',alpha=0.0001).fit(x_train,y_train)\n",
    "y_pred_train = NN.predict(x_train)\n",
    "y_pred_test = NN.predict(x_test)\n",
    "print(NN)\n",
    "print('Training Accuracy {}'.format(NN.score(x_train, y_train)))\n",
    "print(classification_report(y_train, y_pred_train))\n",
    "print('Test Accuracy {}'.format(svc.score(x_test, y_test)))\n",
    "#saving the weights\n",
    "joblib.dump(NN,'nnwt.joblib')"
   ]
  },
  {
   "cell_type": "code",
   "execution_count": 20,
   "metadata": {},
   "outputs": [
    {
     "name": "stdout",
     "output_type": "stream",
     "text": [
      "TRAIN ACCURACY 0.8577712609970675\n",
      "TEST ACCURACY 0.8357771260997068\n"
     ]
    },
    {
     "name": "stderr",
     "output_type": "stream",
     "text": [
      "/Users/Swayamprava/anaconda3/lib/python3.6/site-packages/ipykernel_launcher.py:2: DataConversionWarning: A column-vector y was passed when a 1d array was expected. Please change the shape of y to (n_samples,), for example using ravel().\n",
      "  \n"
     ]
    },
    {
     "data": {
      "text/plain": [
       "['rfwt.joblib']"
      ]
     },
     "execution_count": 20,
     "metadata": {},
     "output_type": "execute_result"
    }
   ],
   "source": [
    "##RANDOMFORREST CLASSIFIER\n",
    "rf = RandomForestClassifier(max_depth=5, n_estimators=10, max_features=1,criterion='gini').fit(x_train,y_train)\n",
    "print(\"TRAIN ACCURACY\",rf.score(x_train,y_train))\n",
    "print(\"TEST ACCURACY\",rf.score(x_test,y_test))\n",
    "#print(accuracy_score(y_train, , normalize=True, sample_weight=None))\n",
    "joblib.dump(rf,'rfwt.joblib')\n",
    "\n"
   ]
  },
  {
   "cell_type": "code",
   "execution_count": null,
   "metadata": {},
   "outputs": [],
   "source": []
  }
 ],
 "metadata": {
  "kernelspec": {
   "display_name": "Python 3",
   "language": "python",
   "name": "python3"
  },
  "language_info": {
   "codemirror_mode": {
    "name": "ipython",
    "version": 3
   },
   "file_extension": ".py",
   "mimetype": "text/x-python",
   "name": "python",
   "nbconvert_exporter": "python",
   "pygments_lexer": "ipython3",
   "version": "3.6.7"
  }
 },
 "nbformat": 4,
 "nbformat_minor": 2
}

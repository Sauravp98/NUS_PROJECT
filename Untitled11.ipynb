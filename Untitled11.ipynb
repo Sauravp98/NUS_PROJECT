{
 "cells": [
  {
   "cell_type": "code",
   "execution_count": null,
   "metadata": {},
   "outputs": [],
   "source": [
    "import numpy as np\n",
    "import pandas as pd\n",
    "import sklearn as sk\n",
    "import random\n",
    "\n",
    "import matplotlib.pyplot as plt\n",
    "import matplotlib.patches as mpatches\n",
    "\n",
    "from sklearn.neural_network import MLPClassifier\n",
    "from sklearn.ensemble import RandomForestClassifier\n",
    "from sklearn.datasets import make_regression\n",
    "from sklearn.svm import LinearSVC\n",
    "from sklearn.linear_model import LogisticRegression\n",
    "from sklearn.metrics import accuracy_score\n",
    "from sklearn.model_selection import train_test_split\n",
    "from sklearn import metrics, datasets\n",
    "from sklearn.metrics import classification_report\n",
    "from sklearn import tree\n",
    "#from sklearn.learning_curve import learning_curve\n",
    "from sklearn import metrics\n",
    "from sklearn.metrics import roc_auc_score\n",
    "from sklearn.metrics import roc_curve\n",
    "from sklearn.externals import joblib"
   ]
  },
  {
   "cell_type": "code",
   "execution_count": null,
   "metadata": {},
   "outputs": [],
   "source": [
    "data = pd.read_csv(\"new1.csv\")\n",
    "X = data.drop(['gross','company','director','name','released','star','writer'],axis=1)\n",
    "l1=(\"Adventure\",\"Comedy\",\"Action\",\"Drama\",\"Crime\",\"Thriller\",\"Horror\",\"Animation\",\"Biography\",\"Sci-Fi\",\"Musical\",\"Family\",\"Fantasy\",\"Mystery\",\"War\",\"Romance\",\"Western\")\n",
    "l2=('Argentina','Australia','Belgium','Canada','China','Denmark','France','Germany','Hong Kong','Hungary','Iran','Isreal','Italy','Japan','Netherlands','New Zealand','Peru','South Africa','Spain','Sweden','Switzerland','UK','USA','West Germany')\n",
    "l3=('R','PG-13','PG','UNRATED','G','NC-17','TV-PG','TV-MA','B','B15','TV-14')\n",
    "for i in range(X['genre'].size):\n",
    "    for j in range(len(l1)):\n",
    "         if(X['genre'][i]==l1[j]):\n",
    "                X['genre'][i]=j\n",
    "    for j in range(len(l2)):\n",
    "         if(X['country'][i]==l2[j]):\n",
    "                X['country'][i]=j  \n",
    "    for j in range(len(l3)):\n",
    "        if(X['rating'][i]==l3[j]):\n",
    "                X['rating'][i]=j\n",
    "        else:\n",
    "                X['rating'][i]=3\n",
    "Y=data['gross']        \n",
    "Y = Y.values.reshape(-1, 1)##convert 1 col to 2d matrix with replace\n",
    "for i in range(Y.size):\n",
    "    if(Y[i]<33497828.61):\n",
    "        Y[i]=1\n",
    "    else:\n",
    "        Y[i]=2"
   ]
  },
  {
   "cell_type": "code",
   "execution_count": null,
   "metadata": {},
   "outputs": [],
   "source": []
  }
 ],
 "metadata": {
  "kernelspec": {
   "display_name": "Python 3",
   "language": "python",
   "name": "python3"
  },
  "language_info": {
   "codemirror_mode": {
    "name": "ipython",
    "version": 3
   },
   "file_extension": ".py",
   "mimetype": "text/x-python",
   "name": "python",
   "nbconvert_exporter": "python",
   "pygments_lexer": "ipython3",
   "version": "3.6.7"
  }
 },
 "nbformat": 4,
 "nbformat_minor": 2
}
